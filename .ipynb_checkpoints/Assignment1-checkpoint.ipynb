{
 "cells": [
  {
   "cell_type": "markdown",
   "id": "3ca2ceb7",
   "metadata": {},
   "source": [
    "# Assignment 1: Feature Engineering and Data Labeling"
   ]
  },
  {
   "cell_type": "markdown",
   "id": "07184c41",
   "metadata": {},
   "source": [
    "## Task 1: Feature Engineering"
   ]
  },
  {
   "cell_type": "code",
   "execution_count": 1,
   "id": "f7288c85",
   "metadata": {},
   "outputs": [],
   "source": [
    "### Import modules\n",
    "\n",
    "%matplotlib inline\n",
    "import pandas as pd\n",
    "import numpy as np\n",
    "from scipy import stats\n",
    "\n",
    "### Import data\n",
    "\n",
    "url = \"https://raw.githubusercontent.com/umaimehm/Intro_to_AI_2021/main/assignment1/Ruter_data.csv\"\n",
    "df = pd.read_csv(url, sep=';')"
   ]
  },
  {
   "cell_type": "markdown",
   "id": "1d162458",
   "metadata": {},
   "source": [
    "### 1.1 Identify 5 unique features from this data set\n",
    "\n",
    "1. Sekunder_På_Holdeplass: The number of seconds the bus spent on the bus stop. This is calculated by taking the difference between Tidspunkt_Faktisk_Avgang_Holdeplass_Fra - Tidspunkt_Faktisk_Ankomst_Holdeplass_Fra\n",
    "\n",
    "2. Sekunder_Forsinket: The number of the seconds the bus was delayed. This is calculated by taking the difference between Tidspunkt_Faktisk_Ankomst_Fra - Tidpunkt_Planlagt_Ankomst_Holdeplass_Fra\n",
    "\n",
    "3. Helg: Wether or not the trip took place during the weekend. If the the trip took place on a Saturday or Sunday this setting is 1, otherwise this setting is 0\n",
    "\n",
    "4. Rushtid: Wether or not the trip took place during rush hour, which is defined as Monday to Friday between 07:00 and 09:00 and between 15:00 and 18:00\n",
    "\n",
    "5. Måned: the month in which the trip took place"
   ]
  }
 ],
 "metadata": {
  "kernelspec": {
   "display_name": "Python 3 (ipykernel)",
   "language": "python",
   "name": "python3"
  },
  "language_info": {
   "codemirror_mode": {
    "name": "ipython",
    "version": 3
   },
   "file_extension": ".py",
   "mimetype": "text/x-python",
   "name": "python",
   "nbconvert_exporter": "python",
   "pygments_lexer": "ipython3",
   "version": "3.8.11"
  }
 },
 "nbformat": 4,
 "nbformat_minor": 5
}
