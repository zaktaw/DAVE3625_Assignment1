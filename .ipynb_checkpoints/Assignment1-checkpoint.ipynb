{
 "cells": [
  {
   "cell_type": "markdown",
   "id": "8aa5dde5",
   "metadata": {},
   "source": [
    "# Assignment 1: Feature Engineering and Data Labeling"
   ]
  },
  {
   "cell_type": "markdown",
   "id": "87c2e38c",
   "metadata": {},
   "source": [
    "## Task 1: Feature Engineering"
   ]
  },
  {
   "cell_type": "code",
   "execution_count": 73,
   "id": "38bd6f83",
   "metadata": {},
   "outputs": [],
   "source": [
    "### Import modules\n",
    "\n",
    "%matplotlib inline\n",
    "import pandas as pd\n",
    "import numpy as np\n",
    "from scipy import stats\n",
    "import matplotlib.pyplot as plt\n",
    "import seaborn as sns\n",
    "\n",
    "### Import data\n",
    "\n",
    "url = \"https://raw.githubusercontent.com/umaimehm/Intro_to_AI_2021/main/assignment1/Ruter_data.csv\"\n",
    "df = pd.read_csv(url, sep=';')"
   ]
  },
  {
   "cell_type": "markdown",
   "id": "d00dcae1",
   "metadata": {},
   "source": [
    "### 1.1 Identify 5 unique features from this data set\n",
    "\n",
    "1. Sekunder_På_Holdeplass: The number of seconds the bus spent on the bus stop. This is calculated by taking the difference between Tidspunkt_Faktisk_Avgang_Holdeplass_Fra - Tidspunkt_Faktisk_Ankomst_Holdeplass_Fra\n",
    "\n",
    "2. Sekunder_Forsinket: The number of the seconds the bus was delayed. This is calculated by taking the difference between Tidspunkt_Faktisk_Avgang_Holdeplass_Fra - Tidpunkt_Planlagt_Avgang_Holdeplass_Fra\n",
    "\n",
    "3. Ukedag: The day of the week in which the trip took place\n",
    "\n",
    "4. Måned: The month in which the trip took place\n",
    "\n",
    "5. Helg: Wether or not the trip took place during the weekend. If the the trip took place on a Saturday or Sunday this setting is 1, otherwise this setting is 0"
   ]
  },
  {
   "cell_type": "markdown",
   "id": "567b3640",
   "metadata": {},
   "source": [
    "### 1.2 Apply feature engineering on them in Python"
   ]
  },
  {
   "cell_type": "code",
   "execution_count": 75,
   "id": "6d9383c0",
   "metadata": {},
   "outputs": [],
   "source": [
    "# Sekunder_På_Holdeplass\n",
    "\n",
    "hours_avgang = pd.to_numeric(df[\"Tidspunkt_Faktisk_Avgang_Holdeplass_Fra\"].str.split(\":\").str[0])\n",
    "minutes_avgang = pd.to_numeric(df[\"Tidspunkt_Faktisk_Avgang_Holdeplass_Fra\"].str.split(\":\").str[1])\n",
    "seconds_avgang = pd.to_numeric(df[\"Tidspunkt_Faktisk_Avgang_Holdeplass_Fra\"].str.split(\":\").str[2])\n",
    "total_seconds_avgang = (hours_avgang * 60 * 60) + (minutes_avgang * 60) + seconds_avgang\n",
    "\n",
    "hours_ankomst = pd.to_numeric(df[\"Tidspunkt_Faktisk_Ankomst_Holdeplass_Fra\"].str.split(\":\").str[0])\n",
    "minutes_ankomst = pd.to_numeric(df[\"Tidspunkt_Faktisk_Ankomst_Holdeplass_Fra\"].str.split(\":\").str[1])\n",
    "seconds_ankomst = pd.to_numeric(df[\"Tidspunkt_Faktisk_Ankomst_Holdeplass_Fra\"].str.split(\":\").str[2])\n",
    "total_seconds_ankomst = (hours_ankomst * 60 * 60) + (minutes_ankomst * 60) + seconds_ankomst\n",
    "\n",
    "df[\"Sekunder_På_Holdeplass\"] = total_seconds_avgang - total_seconds_ankomst"
   ]
  },
  {
   "cell_type": "code",
   "execution_count": 76,
   "id": "423bd59e",
   "metadata": {},
   "outputs": [],
   "source": [
    "# Sekunder_Forsinket\n",
    "\n",
    "hours_faktisk_avgang = pd.to_numeric(df[\"Tidspunkt_Faktisk_Avgang_Holdeplass_Fra\"].str.split(\":\").str[0])\n",
    "minutes_faktisk_avgang = pd.to_numeric(df[\"Tidspunkt_Faktisk_Avgang_Holdeplass_Fra\"].str.split(\":\").str[1])\n",
    "seconds_faktisk_avgang = pd.to_numeric(df[\"Tidspunkt_Faktisk_Avgang_Holdeplass_Fra\"].str.split(\":\").str[2])\n",
    "total_seconds_faktisk_avgang = (hours_faktisk_avgang * 60 * 60) + (minutes_faktisk_avgang * 60) + seconds_faktisk_avgang\n",
    "\n",
    "hours_planlagt_avgang = pd.to_numeric(df[\"Tidspunkt_Planlagt_Avgang_Holdeplass_Fra\"].str.split(\":\").str[0])\n",
    "minutes_planlagt_avgang = pd.to_numeric(df[\"Tidspunkt_Planlagt_Avgang_Holdeplass_Fra\"].str.split(\":\").str[1])\n",
    "seconds_planlagt_avgang = pd.to_numeric(df[\"Tidspunkt_Planlagt_Avgang_Holdeplass_Fra\"].str.split(\":\").str[2])\n",
    "total_seconds_planlagt_avgang = (hours_planlagt_avgang * 60 * 60) + (minutes_planlagt_avgang * 60) + seconds_planlagt_avgang\n",
    "\n",
    "df[\"Sekunder_Forsinket\"] = total_seconds_faktisk_avgang - total_seconds_planlagt_avgang"
   ]
  },
  {
   "cell_type": "code",
   "execution_count": 77,
   "id": "1ec4fc4d",
   "metadata": {},
   "outputs": [],
   "source": [
    "# Ukedag\n",
    "\n",
    "df['Ukedag'] = pd.to_datetime(df['Dato'].astype(str), format=\"%d/%m/%Y\").dt.day_name()"
   ]
  },
  {
   "cell_type": "code",
   "execution_count": 105,
   "id": "848985f0",
   "metadata": {},
   "outputs": [],
   "source": [
    "# Måned\n",
    "\n",
    "conditions = [\n",
    "    (df[\"Dato\"].str.split(\"/\").str[1] == \"01\"),\n",
    "    (df[\"Dato\"].str.split(\"/\").str[1] == \"02\"),\n",
    "    (df[\"Dato\"].str.split(\"/\").str[1] == \"03\"),\n",
    "    (df[\"Dato\"].str.split(\"/\").str[1] == \"04\"),\n",
    "    (df[\"Dato\"].str.split(\"/\").str[1] == \"05\"),\n",
    "    (df[\"Dato\"].str.split(\"/\").str[1] == \"06\"),\n",
    "    (df[\"Dato\"].str.split(\"/\").str[1] == \"07\"),\n",
    "    (df[\"Dato\"].str.split(\"/\").str[1] == \"08\"),\n",
    "    (df[\"Dato\"].str.split(\"/\").str[1] == \"09\"),\n",
    "    (df[\"Dato\"].str.split(\"/\").str[1] == \"10\"),\n",
    "    (df[\"Dato\"].str.split(\"/\").str[1] == \"11\"),\n",
    "    (df[\"Dato\"].str.split(\"/\").str[1] == \"12\"),\n",
    "]\n",
    "\n",
    "values = [\"Januar\", \"Februar\", \"Mars\", \"April\", \"Mai\", \"Juni\", \"Juli\", \"August\", \"September\", \"Oktober\", \"November\", \"Desember\"]\n",
    "\n",
    "df[\"Måned\"] = np.select(conditions, values)"
   ]
  },
  {
   "cell_type": "code",
   "execution_count": 80,
   "id": "41b84e81",
   "metadata": {},
   "outputs": [],
   "source": [
    "# Helg\n",
    "\n",
    "mask = (df['Ukedag'] == 'Saturday') | (df['Ukedag'] == 'Sunday')\n",
    "df.loc[mask, 'Helg'] = True\n",
    "df['Helg'].fillna(False, inplace=True)"
   ]
  },
  {
   "cell_type": "code",
   "execution_count": 106,
   "id": "06eee435",
   "metadata": {},
   "outputs": [
    {
     "data": {
      "text/html": [
       "<div>\n",
       "<style scoped>\n",
       "    .dataframe tbody tr th:only-of-type {\n",
       "        vertical-align: middle;\n",
       "    }\n",
       "\n",
       "    .dataframe tbody tr th {\n",
       "        vertical-align: top;\n",
       "    }\n",
       "\n",
       "    .dataframe thead th {\n",
       "        text-align: right;\n",
       "    }\n",
       "</style>\n",
       "<table border=\"1\" class=\"dataframe\">\n",
       "  <thead>\n",
       "    <tr style=\"text-align: right;\">\n",
       "      <th></th>\n",
       "      <th>TurId</th>\n",
       "      <th>Dato</th>\n",
       "      <th>Fylke</th>\n",
       "      <th>Område</th>\n",
       "      <th>Kommune</th>\n",
       "      <th>Holdeplass_Fra</th>\n",
       "      <th>Holdeplass_Til</th>\n",
       "      <th>Linjetype</th>\n",
       "      <th>Linjefylke</th>\n",
       "      <th>Linjenavn</th>\n",
       "      <th>...</th>\n",
       "      <th>Tidspunkt_Faktisk_Avgang_Holdeplass_Fra</th>\n",
       "      <th>Tidspunkt_Planlagt_Ankomst_Holdeplass_Fra</th>\n",
       "      <th>Tidspunkt_Planlagt_Avgang_Holdeplass_Fra</th>\n",
       "      <th>Kjøretøy_Kapasitet</th>\n",
       "      <th>Passasjerer_Ombord</th>\n",
       "      <th>Sekunder_På_Holdeplass</th>\n",
       "      <th>Sekunder_Forsinket</th>\n",
       "      <th>Ukedag</th>\n",
       "      <th>Helg</th>\n",
       "      <th>Måned</th>\n",
       "    </tr>\n",
       "  </thead>\n",
       "  <tbody>\n",
       "    <tr>\n",
       "      <th>0</th>\n",
       "      <td>15006-2020-08-10T10:24:00+02:00</td>\n",
       "      <td>10/08/2020</td>\n",
       "      <td>Viken</td>\n",
       "      <td>Vest</td>\n",
       "      <td>Bærum</td>\n",
       "      <td>Nordliveien</td>\n",
       "      <td>Tjernsmyr</td>\n",
       "      <td>Lokal</td>\n",
       "      <td>Viken</td>\n",
       "      <td>150</td>\n",
       "      <td>...</td>\n",
       "      <td>10:53:59</td>\n",
       "      <td>10:53:00</td>\n",
       "      <td>10:53:00</td>\n",
       "      <td>112</td>\n",
       "      <td>5</td>\n",
       "      <td>6.0</td>\n",
       "      <td>59.0</td>\n",
       "      <td>Monday</td>\n",
       "      <td>False</td>\n",
       "      <td>August</td>\n",
       "    </tr>\n",
       "  </tbody>\n",
       "</table>\n",
       "<p>1 rows × 22 columns</p>\n",
       "</div>"
      ],
      "text/plain": [
       "                             TurId        Dato  Fylke Område Kommune  \\\n",
       "0  15006-2020-08-10T10:24:00+02:00  10/08/2020  Viken   Vest   Bærum   \n",
       "\n",
       "  Holdeplass_Fra Holdeplass_Til Linjetype Linjefylke Linjenavn  ...  \\\n",
       "0    Nordliveien      Tjernsmyr     Lokal      Viken       150  ...   \n",
       "\n",
       "   Tidspunkt_Faktisk_Avgang_Holdeplass_Fra  \\\n",
       "0                                 10:53:59   \n",
       "\n",
       "  Tidspunkt_Planlagt_Ankomst_Holdeplass_Fra  \\\n",
       "0                                  10:53:00   \n",
       "\n",
       "  Tidspunkt_Planlagt_Avgang_Holdeplass_Fra Kjøretøy_Kapasitet  \\\n",
       "0                                 10:53:00                112   \n",
       "\n",
       "  Passasjerer_Ombord  Sekunder_På_Holdeplass  Sekunder_Forsinket  Ukedag  \\\n",
       "0                  5                     6.0                59.0  Monday   \n",
       "\n",
       "    Helg   Måned  \n",
       "0  False  August  \n",
       "\n",
       "[1 rows x 22 columns]"
      ]
     },
     "execution_count": 106,
     "metadata": {},
     "output_type": "execute_result"
    }
   ],
   "source": [
    "df.head(1)"
   ]
  },
  {
   "cell_type": "markdown",
   "id": "1933924a",
   "metadata": {},
   "source": [
    "### 1.3 Visualize each feature in the form of a graph using python libraries."
   ]
  },
  {
   "cell_type": "code",
   "execution_count": 149,
   "id": "38aaa488",
   "metadata": {
    "scrolled": false
   },
   "outputs": [
    {
     "data": {
      "image/png": "[encoded data removed]",
      "text/plain": [
       "<Figure size 432x288 with 1 Axes>"
      ]
     },
     "metadata": {
      "needs_background": "light"
     },
     "output_type": "display_data"
    }
   ],
   "source": [
    "# Barplot with Fylke and Sekunder_På_Holdeplass\n",
    "\n",
    "sns.barplot(x='Fylke', y='Sekunder_På_Holdeplass', data=df);"
   ]
  },
  {
   "cell_type": "code",
   "execution_count": 151,
   "id": "763d206e",
   "metadata": {
    "scrolled": true
   },
   "outputs": [
    {
     "data": {
      "image/png": "[encoded data removed]",
      "text/plain": [
       "<Figure size 432x288 with 1 Axes>"
      ]
     },
     "metadata": {
      "needs_background": "light"
     },
     "output_type": "display_data"
    }
   ],
   "source": [
    "# Barplot with Fylke and Sekunder_Forsinket\n",
    "\n",
    "sns.barplot(x='Fylke', y='Sekunder_Forsinket', data=df);"
   ]
  },
  {
   "cell_type": "code",
   "execution_count": 141,
   "id": "59c54cc9",
   "metadata": {},
   "outputs": [
    {
     "data": {
      "image/png": "[encoded data removed]",
      "text/plain": [
       "<Figure size 432x288 with 1 Axes>"
      ]
     },
     "metadata": {
      "needs_background": "light"
     },
     "output_type": "display_data"
    }
   ],
   "source": [
    "# Barplot with Ukedag and Passasjerer_Ombord\n",
    "\n",
    "sns.barplot(x='Ukedag', y='Passasjerer_Ombord', data=df);"
   ]
  },
  {
   "cell_type": "code",
   "execution_count": 142,
   "id": "e22fbd8d",
   "metadata": {},
   "outputs": [
    {
     "data": {
      "image/png": "[encoded data removed]",
      "text/plain": [
       "<Figure size 432x288 with 1 Axes>"
      ]
     },
     "metadata": {
      "needs_background": "light"
     },
     "output_type": "display_data"
    }
   ],
   "source": [
    "# Barplot with Måned and Passaasjerer_Ombord\n",
    "\n",
    "sns.barplot(x='Måned', y='Passasjerer_Ombord', data=df);"
   ]
  },
  {
   "cell_type": "code",
   "execution_count": 153,
   "id": "bb94d167",
   "metadata": {},
   "outputs": [
    {
     "data": {
      "image/png": "[encoded data removed]",
      "text/plain": [
       "<Figure size 432x288 with 1 Axes>"
      ]
     },
     "metadata": {
      "needs_background": "light"
     },
     "output_type": "display_data"
    }
   ],
   "source": [
    "# Barplot with Helg and Passaasjerer_Ombord\n",
    "\n",
    "sns.barplot(x='Helg', y='Passasjerer_Ombord', data=df);"
   ]
  }
 ],
 "metadata": {
  "kernelspec": {
   "display_name": "Python 3 (ipykernel)",
   "language": "python",
   "name": "python3"
  },
  "language_info": {
   "codemirror_mode": {
    "name": "ipython",
    "version": 3
   },
   "file_extension": ".py",
   "mimetype": "text/x-python",
   "name": "python",
   "nbconvert_exporter": "python",
   "pygments_lexer": "ipython3",
   "version": "3.8.11"
  }
 },
 "nbformat": 4,
 "nbformat_minor": 5
}
